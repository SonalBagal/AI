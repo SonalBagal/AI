{
 "cells": [
  {
   "cell_type": "code",
   "execution_count": 1,
   "id": "775c66ec",
   "metadata": {
    "_cell_guid": "b1076dfc-b9ad-4769-8c92-a6c4dae69d19",
    "_uuid": "8f2839f25d086af736a60e9eeb907d3b93b6e0e5",
    "execution": {
     "iopub.execute_input": "2025-04-03T09:25:17.142859Z",
     "iopub.status.busy": "2025-04-03T09:25:17.142342Z",
     "iopub.status.idle": "2025-04-03T09:25:18.129124Z",
     "shell.execute_reply": "2025-04-03T09:25:18.127986Z"
    },
    "papermill": {
     "duration": 0.996318,
     "end_time": "2025-04-03T09:25:18.131305",
     "exception": false,
     "start_time": "2025-04-03T09:25:17.134987",
     "status": "completed"
    },
    "tags": []
   },
   "outputs": [],
   "source": [
    "# This Python 3 environment comes with many helpful analytics libraries installed\n",
    "# It is defined by the kaggle/python Docker image: https://github.com/kaggle/docker-python\n",
    "# For example, here's several helpful packages to load\n",
    "\n",
    "import numpy as np # linear algebra\n",
    "import pandas as pd # data processing, CSV file I/O (e.g. pd.read_csv)\n",
    "\n",
    "# Input data files are available in the read-only \"../input/\" directory\n",
    "# For example, running this (by clicking run or pressing Shift+Enter) will list all files under the input directory\n",
    "\n",
    "import os\n",
    "for dirname, _, filenames in os.walk('/kaggle/input'):\n",
    "    for filename in filenames:\n",
    "        print(os.path.join(dirname, filename))\n",
    "\n",
    "# You can write up to 20GB to the current directory (/kaggle/working/) that gets preserved as output when you create a version using \"Save & Run All\" \n",
    "# You can also write temporary files to /kaggle/temp/, but they won't be saved outside of the current session"
   ]
  },
  {
   "cell_type": "code",
   "execution_count": 2,
   "id": "4d739733",
   "metadata": {
    "execution": {
     "iopub.execute_input": "2025-04-03T09:25:18.143156Z",
     "iopub.status.busy": "2025-04-03T09:25:18.142684Z",
     "iopub.status.idle": "2025-04-03T09:25:26.713259Z",
     "shell.execute_reply": "2025-04-03T09:25:26.711937Z"
    },
    "papermill": {
     "duration": 8.578668,
     "end_time": "2025-04-03T09:25:26.715455",
     "exception": false,
     "start_time": "2025-04-03T09:25:18.136787",
     "status": "completed"
    },
    "tags": []
   },
   "outputs": [
    {
     "name": "stdout",
     "output_type": "stream",
     "text": [
      "\u001b[2K   \u001b[90m━━━━━━━━━━━━━━━━━━━━━━━━━━━━━━━━━━━━━━━━\u001b[0m \u001b[32m144.7/144.7 kB\u001b[0m \u001b[31m3.8 MB/s\u001b[0m eta \u001b[36m0:00:00\u001b[0m\r\n",
      "\u001b[2K   \u001b[90m━━━━━━━━━━━━━━━━━━━━━━━━━━━━━━━━━━━━━━━━\u001b[0m \u001b[32m100.9/100.9 kB\u001b[0m \u001b[31m4.6 MB/s\u001b[0m eta \u001b[36m0:00:00\u001b[0m\r\n",
      "\u001b[?25h"
     ]
    }
   ],
   "source": [
    "!pip uninstall -qqy jupyterlab  # Remove unused conflicting packages\n",
    "!pip install -U -q \"google-genai==1.7.0\""
   ]
  },
  {
   "cell_type": "code",
   "execution_count": 3,
   "id": "8e94ff6c",
   "metadata": {
    "execution": {
     "iopub.execute_input": "2025-04-03T09:25:26.728862Z",
     "iopub.status.busy": "2025-04-03T09:25:26.728446Z",
     "iopub.status.idle": "2025-04-03T09:25:28.138541Z",
     "shell.execute_reply": "2025-04-03T09:25:28.137393Z"
    },
    "papermill": {
     "duration": 1.419052,
     "end_time": "2025-04-03T09:25:28.140450",
     "exception": false,
     "start_time": "2025-04-03T09:25:26.721398",
     "status": "completed"
    },
    "tags": []
   },
   "outputs": [
    {
     "data": {
      "text/plain": [
       "'1.7.0'"
      ]
     },
     "execution_count": 3,
     "metadata": {},
     "output_type": "execute_result"
    }
   ],
   "source": [
    "from google import genai\n",
    "from google.genai import types\n",
    "\n",
    "genai.__version__"
   ]
  },
  {
   "cell_type": "code",
   "execution_count": 4,
   "id": "f70d6640",
   "metadata": {
    "execution": {
     "iopub.execute_input": "2025-04-03T09:25:28.153917Z",
     "iopub.status.busy": "2025-04-03T09:25:28.153284Z",
     "iopub.status.idle": "2025-04-03T09:25:28.649761Z",
     "shell.execute_reply": "2025-04-03T09:25:28.648689Z"
    },
    "papermill": {
     "duration": 0.505687,
     "end_time": "2025-04-03T09:25:28.652087",
     "exception": false,
     "start_time": "2025-04-03T09:25:28.146400",
     "status": "completed"
    },
    "tags": []
   },
   "outputs": [],
   "source": [
    "from kaggle_secrets import UserSecretsClient\n",
    "\n",
    "GOOGLE_API_KEY = UserSecretsClient().get_secret(\"GOOGLE_API_KEY\")\n",
    "\n",
    "client = genai.Client(api_key=GOOGLE_API_KEY)"
   ]
  },
  {
   "cell_type": "code",
   "execution_count": 5,
   "id": "093d69b1",
   "metadata": {
    "execution": {
     "iopub.execute_input": "2025-04-03T09:25:28.664655Z",
     "iopub.status.busy": "2025-04-03T09:25:28.664273Z",
     "iopub.status.idle": "2025-04-03T09:25:28.766287Z",
     "shell.execute_reply": "2025-04-03T09:25:28.764812Z"
    },
    "papermill": {
     "duration": 0.110907,
     "end_time": "2025-04-03T09:25:28.768645",
     "exception": false,
     "start_time": "2025-04-03T09:25:28.657738",
     "status": "completed"
    },
    "tags": []
   },
   "outputs": [
    {
     "name": "stdout",
     "output_type": "stream",
     "text": [
      "models/gemini-1.5-flash-001-tuning\n"
     ]
    }
   ],
   "source": [
    "for model in client.models.list():\n",
    "    if \"createTunedModel\" in model.supported_actions:\n",
    "        print(model.name)"
   ]
  },
  {
   "cell_type": "code",
   "execution_count": 6,
   "id": "333adefb",
   "metadata": {
    "execution": {
     "iopub.execute_input": "2025-04-03T09:25:28.781201Z",
     "iopub.status.busy": "2025-04-03T09:25:28.780843Z",
     "iopub.status.idle": "2025-04-03T09:25:41.017114Z",
     "shell.execute_reply": "2025-04-03T09:25:41.015901Z"
    },
    "papermill": {
     "duration": 12.24462,
     "end_time": "2025-04-03T09:25:41.018958",
     "exception": false,
     "start_time": "2025-04-03T09:25:28.774338",
     "status": "completed"
    },
    "tags": []
   },
   "outputs": [
    {
     "data": {
      "text/plain": [
       "['alt.atheism',\n",
       " 'comp.graphics',\n",
       " 'comp.os.ms-windows.misc',\n",
       " 'comp.sys.ibm.pc.hardware',\n",
       " 'comp.sys.mac.hardware',\n",
       " 'comp.windows.x',\n",
       " 'misc.forsale',\n",
       " 'rec.autos',\n",
       " 'rec.motorcycles',\n",
       " 'rec.sport.baseball',\n",
       " 'rec.sport.hockey',\n",
       " 'sci.crypt',\n",
       " 'sci.electronics',\n",
       " 'sci.med',\n",
       " 'sci.space',\n",
       " 'soc.religion.christian',\n",
       " 'talk.politics.guns',\n",
       " 'talk.politics.mideast',\n",
       " 'talk.politics.misc',\n",
       " 'talk.religion.misc']"
      ]
     },
     "execution_count": 6,
     "metadata": {},
     "output_type": "execute_result"
    }
   ],
   "source": [
    "from sklearn.datasets import fetch_20newsgroups\n",
    "\n",
    "newsgroups_train = fetch_20newsgroups(subset=\"train\")\n",
    "newsgroups_test = fetch_20newsgroups(subset=\"test\")\n",
    "\n",
    "# View list of class names for dataset\n",
    "newsgroups_train.target_names"
   ]
  },
  {
   "cell_type": "code",
   "execution_count": 7,
   "id": "ba382b86",
   "metadata": {
    "execution": {
     "iopub.execute_input": "2025-04-03T09:25:41.032361Z",
     "iopub.status.busy": "2025-04-03T09:25:41.032000Z",
     "iopub.status.idle": "2025-04-03T09:25:41.037353Z",
     "shell.execute_reply": "2025-04-03T09:25:41.036005Z"
    },
    "papermill": {
     "duration": 0.014269,
     "end_time": "2025-04-03T09:25:41.039022",
     "exception": false,
     "start_time": "2025-04-03T09:25:41.024753",
     "status": "completed"
    },
    "tags": []
   },
   "outputs": [
    {
     "name": "stdout",
     "output_type": "stream",
     "text": [
      "From: lerxst@wam.umd.edu (where's my thing)\n",
      "Subject: WHAT car is this!?\n",
      "Nntp-Posting-Host: rac3.wam.umd.edu\n",
      "Organization: University of Maryland, College Park\n",
      "Lines: 15\n",
      "\n",
      " I was wondering if anyone out there could enlighten me on this car I saw\n",
      "the other day. It was a 2-door sports car, looked to be from the late 60s/\n",
      "early 70s. It was called a Bricklin. The doors were really small. In addition,\n",
      "the front bumper was separate from the rest of the body. This is \n",
      "all I know. If anyone can tellme a model name, engine specs, years\n",
      "of production, where this car is made, history, or whatever info you\n",
      "have on this funky looking car, please e-mail.\n",
      "\n",
      "Thanks,\n",
      "- IL\n",
      "   ---- brought to you by your neighborhood Lerxst ----\n",
      "\n",
      "\n",
      "\n",
      "\n",
      "\n"
     ]
    }
   ],
   "source": [
    "print(newsgroups_train.data[0])"
   ]
  },
  {
   "cell_type": "code",
   "execution_count": 8,
   "id": "6fe08c9b",
   "metadata": {
    "execution": {
     "iopub.execute_input": "2025-04-03T09:25:41.052283Z",
     "iopub.status.busy": "2025-04-03T09:25:41.051927Z",
     "iopub.status.idle": "2025-04-03T09:25:41.058606Z",
     "shell.execute_reply": "2025-04-03T09:25:41.057483Z"
    },
    "papermill": {
     "duration": 0.015482,
     "end_time": "2025-04-03T09:25:41.060390",
     "exception": false,
     "start_time": "2025-04-03T09:25:41.044908",
     "status": "completed"
    },
    "tags": []
   },
   "outputs": [],
   "source": [
    "import email\n",
    "import re\n",
    "\n",
    "import pandas as pd\n",
    "\n",
    "\n",
    "def preprocess_newsgroup_row(data):\n",
    "    # Extract only the subject and body\n",
    "    msg = email.message_from_string(data)\n",
    "    text = f\"{msg['Subject']}\\n\\n{msg.get_payload()}\"\n",
    "    # Strip any remaining email addresses\n",
    "    text = re.sub(r\"[\\w\\.-]+@[\\w\\.-]+\", \"\", text)\n",
    "    # Truncate the text to fit within the input limits\n",
    "    text = text[:40000]\n",
    "\n",
    "    return text\n",
    "\n",
    "\n",
    "def preprocess_newsgroup_data(newsgroup_dataset):\n",
    "    # Put data points into dataframe\n",
    "    df = pd.DataFrame(\n",
    "        {\"Text\": newsgroup_dataset.data, \"Label\": newsgroup_dataset.target}\n",
    "    )\n",
    "    # Clean up the text\n",
    "    df[\"Text\"] = df[\"Text\"].apply(preprocess_newsgroup_row)\n",
    "    # Match label to target name index\n",
    "    df[\"Class Name\"] = df[\"Label\"].map(lambda l: newsgroup_dataset.target_names[l])\n",
    "\n",
    "    return df"
   ]
  },
  {
   "cell_type": "code",
   "execution_count": 9,
   "id": "21755b11",
   "metadata": {
    "execution": {
     "iopub.execute_input": "2025-04-03T09:25:41.073725Z",
     "iopub.status.busy": "2025-04-03T09:25:41.073328Z",
     "iopub.status.idle": "2025-04-03T09:25:44.742711Z",
     "shell.execute_reply": "2025-04-03T09:25:44.741593Z"
    },
    "papermill": {
     "duration": 3.67788,
     "end_time": "2025-04-03T09:25:44.744398",
     "exception": false,
     "start_time": "2025-04-03T09:25:41.066518",
     "status": "completed"
    },
    "tags": []
   },
   "outputs": [
    {
     "data": {
      "text/html": [
       "<div>\n",
       "<style scoped>\n",
       "    .dataframe tbody tr th:only-of-type {\n",
       "        vertical-align: middle;\n",
       "    }\n",
       "\n",
       "    .dataframe tbody tr th {\n",
       "        vertical-align: top;\n",
       "    }\n",
       "\n",
       "    .dataframe thead th {\n",
       "        text-align: right;\n",
       "    }\n",
       "</style>\n",
       "<table border=\"1\" class=\"dataframe\">\n",
       "  <thead>\n",
       "    <tr style=\"text-align: right;\">\n",
       "      <th></th>\n",
       "      <th>Text</th>\n",
       "      <th>Label</th>\n",
       "      <th>Class Name</th>\n",
       "    </tr>\n",
       "  </thead>\n",
       "  <tbody>\n",
       "    <tr>\n",
       "      <th>0</th>\n",
       "      <td>WHAT car is this!?\\n\\n I was wondering if anyo...</td>\n",
       "      <td>7</td>\n",
       "      <td>rec.autos</td>\n",
       "    </tr>\n",
       "    <tr>\n",
       "      <th>1</th>\n",
       "      <td>SI Clock Poll - Final Call\\n\\nA fair number of...</td>\n",
       "      <td>4</td>\n",
       "      <td>comp.sys.mac.hardware</td>\n",
       "    </tr>\n",
       "    <tr>\n",
       "      <th>2</th>\n",
       "      <td>PB questions...\\n\\nwell folks, my mac plus fin...</td>\n",
       "      <td>4</td>\n",
       "      <td>comp.sys.mac.hardware</td>\n",
       "    </tr>\n",
       "    <tr>\n",
       "      <th>3</th>\n",
       "      <td>Re: Weitek P9000 ?\\n\\nRobert J.C. Kyanko () wr...</td>\n",
       "      <td>1</td>\n",
       "      <td>comp.graphics</td>\n",
       "    </tr>\n",
       "    <tr>\n",
       "      <th>4</th>\n",
       "      <td>Re: Shuttle Launch Question\\n\\nFrom article &lt;&gt;...</td>\n",
       "      <td>14</td>\n",
       "      <td>sci.space</td>\n",
       "    </tr>\n",
       "  </tbody>\n",
       "</table>\n",
       "</div>"
      ],
      "text/plain": [
       "                                                Text  Label  \\\n",
       "0  WHAT car is this!?\\n\\n I was wondering if anyo...      7   \n",
       "1  SI Clock Poll - Final Call\\n\\nA fair number of...      4   \n",
       "2  PB questions...\\n\\nwell folks, my mac plus fin...      4   \n",
       "3  Re: Weitek P9000 ?\\n\\nRobert J.C. Kyanko () wr...      1   \n",
       "4  Re: Shuttle Launch Question\\n\\nFrom article <>...     14   \n",
       "\n",
       "              Class Name  \n",
       "0              rec.autos  \n",
       "1  comp.sys.mac.hardware  \n",
       "2  comp.sys.mac.hardware  \n",
       "3          comp.graphics  \n",
       "4              sci.space  "
      ]
     },
     "execution_count": 9,
     "metadata": {},
     "output_type": "execute_result"
    }
   ],
   "source": [
    "# Apply preprocessing to training and test datasets\n",
    "df_train = preprocess_newsgroup_data(newsgroups_train)\n",
    "df_test = preprocess_newsgroup_data(newsgroups_test)\n",
    "\n",
    "df_train.head()"
   ]
  },
  {
   "cell_type": "code",
   "execution_count": 10,
   "id": "a48754c8",
   "metadata": {
    "execution": {
     "iopub.execute_input": "2025-04-03T09:25:44.758254Z",
     "iopub.status.busy": "2025-04-03T09:25:44.757898Z",
     "iopub.status.idle": "2025-04-03T09:25:44.801631Z",
     "shell.execute_reply": "2025-04-03T09:25:44.800528Z"
    },
    "papermill": {
     "duration": 0.053185,
     "end_time": "2025-04-03T09:25:44.803674",
     "exception": false,
     "start_time": "2025-04-03T09:25:44.750489",
     "status": "completed"
    },
    "tags": []
   },
   "outputs": [],
   "source": [
    "def sample_data(df, num_samples, classes_to_keep):\n",
    "    # Sample rows, selecting num_samples of each Label.\n",
    "    df = (\n",
    "        df.groupby(\"Label\")[df.columns]\n",
    "        .apply(lambda x: x.sample(num_samples))\n",
    "        .reset_index(drop=True)\n",
    "    )\n",
    "\n",
    "    df = df[df[\"Class Name\"].str.contains(classes_to_keep)]\n",
    "    df[\"Class Name\"] = df[\"Class Name\"].astype(\"category\")\n",
    "\n",
    "    return df\n",
    "\n",
    "\n",
    "TRAIN_NUM_SAMPLES = 50\n",
    "TEST_NUM_SAMPLES = 10\n",
    "# Keep rec.* and sci.*\n",
    "CLASSES_TO_KEEP = \"^rec|^sci\"\n",
    "\n",
    "df_train = sample_data(df_train, TRAIN_NUM_SAMPLES, CLASSES_TO_KEEP)\n",
    "df_test = sample_data(df_test, TEST_NUM_SAMPLES, CLASSES_TO_KEEP)"
   ]
  },
  {
   "cell_type": "code",
   "execution_count": 11,
   "id": "c3dc2cf5",
   "metadata": {
    "execution": {
     "iopub.execute_input": "2025-04-03T09:25:44.818670Z",
     "iopub.status.busy": "2025-04-03T09:25:44.818210Z",
     "iopub.status.idle": "2025-04-03T09:25:44.824878Z",
     "shell.execute_reply": "2025-04-03T09:25:44.823541Z"
    },
    "papermill": {
     "duration": 0.016621,
     "end_time": "2025-04-03T09:25:44.826377",
     "exception": false,
     "start_time": "2025-04-03T09:25:44.809756",
     "status": "completed"
    },
    "tags": []
   },
   "outputs": [
    {
     "name": "stdout",
     "output_type": "stream",
     "text": [
      "Need info on 88-89 Bonneville\n",
      "\n",
      "\n",
      " I am a little confused on all of the models of the 88-89 bonnevilles.\n",
      "I have heard of the LE SE LSE SSE SSEI. Could someone tell me the\n",
      "differences are far as features or performance. I am also curious to\n",
      "know what the book value is for prefereably the 89 model. And how much\n",
      "less than book value can you usually get them for. In other words how\n",
      "much are they in demand this time of year. I have heard that the mid-spring\n",
      "early summer is the best time to buy.\n",
      "\n",
      "\t\t\tNeil Gandler\n",
      "\n",
      "---\n",
      "Label: rec.autos\n"
     ]
    }
   ],
   "source": [
    "sample_idx = 0\n",
    "sample_row = preprocess_newsgroup_row(newsgroups_test.data[sample_idx])\n",
    "sample_label = newsgroups_test.target_names[newsgroups_test.target[sample_idx]]\n",
    "\n",
    "print(sample_row)\n",
    "print('---')\n",
    "print('Label:', sample_label)"
   ]
  },
  {
   "cell_type": "code",
   "execution_count": 12,
   "id": "ca1009f7",
   "metadata": {
    "execution": {
     "iopub.execute_input": "2025-04-03T09:25:44.840210Z",
     "iopub.status.busy": "2025-04-03T09:25:44.839869Z",
     "iopub.status.idle": "2025-04-03T09:25:51.539351Z",
     "shell.execute_reply": "2025-04-03T09:25:51.538161Z"
    },
    "papermill": {
     "duration": 6.709287,
     "end_time": "2025-04-03T09:25:51.541624",
     "exception": false,
     "start_time": "2025-04-03T09:25:44.832337",
     "status": "completed"
    },
    "tags": []
   },
   "outputs": [
    {
     "name": "stdout",
     "output_type": "stream",
     "text": [
      "You're right, the Bonneville lineup in 1988-89 was a bit confusing!  Here's a breakdown of the models you mentioned:\n",
      "\n",
      "**1988-1989 Bonneville Trim Levels:**\n",
      "\n",
      "* **LE (Luxury Edition):**  This was the base Bonneville. It came with standard features like power steering, brakes, and windows, along with cloth upholstery and an AM/FM radio.\n",
      "* **SE (Special Edition):** The SE built upon the LE with added features like air conditioning, a tilt steering wheel, and a rear window defroster. It might have also had some minor exterior trim differences.\n",
      "* **LSE (Luxury Special Edition):**  The LSE was essentially the same as the SE but with a more luxurious interior, often including upgraded upholstery (perhaps leather) and additional comfort features.\n",
      "* **SSE (Sport Special Edition):** The SSE was the sportier version, offering features like a firmer suspension, larger wheels and tires, and perhaps a slightly more powerful engine. \n",
      "* **SSEi (Sport Special Edition, Injection):** The SSEi was the top-of-the-line Bonneville. It included all of the SSE's sporty features but also got a fuel-injected engine, which provided a boost in horsepower and performance.\n",
      "\n",
      "**Book Value and Pricing:**\n",
      "\n",
      "* **Book Value:**  Websites like Kelley Blue Book (KBB), Edmunds, and NADA provide estimated book values based on factors like year, mileage, condition, and location.  However, these values are just estimates, and the actual selling price can vary.\n",
      "* **Market Demand:** The demand for 1988-89 Bonnevilles is generally low.  The vehicles are relatively old, and there are many newer, more fuel-efficient options available.\n",
      "* **Mid-Spring/Early Summer:**  While spring/summer can sometimes be a good time to negotiate a lower price, the car market fluctuates based on factors like the economy, gas prices, and seasonal demand. \n",
      "\n",
      "**Negotiating a Price:**\n",
      "\n",
      "* **Research:**  Before you start negotiating, research similar Bonnevilles in your area. Look at listings on online marketplaces like Craigslist and Facebook Marketplace. \n",
      "* **Condition:** The condition of the Bonneville will significantly impact its value. A well-maintained car with low mileage will command a higher price than one with high mileage and signs of wear and tear.\n",
      "* **Be Prepared to Walk Away:** If the seller is not willing to negotiate a price you are comfortable with, be prepared to walk away. There are other Bonnevilles out there.\n",
      "\n",
      "**Important Note:**  Remember, when buying a used car, it's crucial to have a mechanic inspect it thoroughly before you purchase it. This can help you avoid costly repairs down the road. \n",
      "\n",
      "I hope this information is helpful!  Feel free to ask if you have any further questions. \n",
      "\n"
     ]
    }
   ],
   "source": [
    "response = client.models.generate_content(\n",
    "    model=\"gemini-1.5-flash-001\", contents=sample_row)\n",
    "print(response.text)"
   ]
  },
  {
   "cell_type": "code",
   "execution_count": 13,
   "id": "208f269f",
   "metadata": {
    "execution": {
     "iopub.execute_input": "2025-04-03T09:25:51.556524Z",
     "iopub.status.busy": "2025-04-03T09:25:51.556150Z",
     "iopub.status.idle": "2025-04-03T09:25:56.167184Z",
     "shell.execute_reply": "2025-04-03T09:25:56.165694Z"
    },
    "papermill": {
     "duration": 4.621091,
     "end_time": "2025-04-03T09:25:56.169082",
     "exception": false,
     "start_time": "2025-04-03T09:25:51.547991",
     "status": "completed"
    },
    "tags": []
   },
   "outputs": [
    {
     "name": "stdout",
     "output_type": "stream",
     "text": [
      "This message most likely originates from a **Buick-specific newsgroup**. \n",
      "\n",
      "Here's why:\n",
      "\n",
      "* **The subject matter:** The message specifically asks about Buick Bonnevilles, which are cars manufactured by Buick. \n",
      "* **The terminology:**  The message uses acronyms like \"LE,\" \"SE,\" \"LSE,\" \"SSE,\" and \"SSEi,\" which are trim levels specific to Buick Bonneville models. \n",
      "* **The time of year:** The mention of \"mid-spring early summer\" being the best time to buy suggests the writer is interested in used cars, which aligns with common discussion topics in car-related newsgroups.\n",
      "\n",
      "Given the above, the most likely newsgroup is **alt.autos.buick**, which is a dedicated forum for Buick enthusiasts. \n",
      "\n"
     ]
    }
   ],
   "source": [
    "# Ask the model directly in a zero-shot prompt.\n",
    "\n",
    "prompt = \"From what newsgroup does the following message originate?\"\n",
    "baseline_response = client.models.generate_content(\n",
    "    model=\"gemini-1.5-flash-001\",\n",
    "    contents=[prompt, sample_row])\n",
    "print(baseline_response.text)"
   ]
  },
  {
   "cell_type": "code",
   "execution_count": 14,
   "id": "43c41128",
   "metadata": {
    "execution": {
     "iopub.execute_input": "2025-04-03T09:25:56.182830Z",
     "iopub.status.busy": "2025-04-03T09:25:56.182421Z",
     "iopub.status.idle": "2025-04-03T09:26:00.125086Z",
     "shell.execute_reply": "2025-04-03T09:26:00.123989Z"
    },
    "papermill": {
     "duration": 3.951601,
     "end_time": "2025-04-03T09:26:00.126958",
     "exception": false,
     "start_time": "2025-04-03T09:25:56.175357",
     "status": "completed"
    },
    "tags": []
   },
   "outputs": [
    {
     "name": "stdout",
     "output_type": "stream",
     "text": [
      "rec.autos.misc\n",
      "\n",
      "Incorrect.\n"
     ]
    }
   ],
   "source": [
    "from google.api_core import retry\n",
    "\n",
    "# You can use a system instruction to do more direct prompting, and get a\n",
    "# more succinct answer.\n",
    "\n",
    "system_instruct = \"\"\"\n",
    "You are a classification service. You will be passed input that represents\n",
    "a newsgroup post and you must respond with the newsgroup from which the post\n",
    "originates.\n",
    "\"\"\"\n",
    "\n",
    "# Define a helper to retry when per-minute quota is reached.\n",
    "is_retriable = lambda e: (isinstance(e, genai.errors.APIError) and e.code in {429, 503})\n",
    "\n",
    "# If you want to evaluate your own technique, replace this body of this function\n",
    "# with your model, prompt and other code and return the predicted answer.\n",
    "@retry.Retry(predicate=is_retriable)\n",
    "def predict_label(post: str) -> str:\n",
    "    response = client.models.generate_content(\n",
    "        model=\"gemini-1.5-flash-001\",\n",
    "        config=types.GenerateContentConfig(\n",
    "            system_instruction=system_instruct),\n",
    "        contents=post)\n",
    "\n",
    "    rc = response.candidates[0]\n",
    "\n",
    "    # Any errors, filters, recitation, etc we can mark as a general error\n",
    "    if rc.finish_reason.name != \"STOP\":\n",
    "        return \"(error)\"\n",
    "    else:\n",
    "        # Clean up the response.\n",
    "        return response.text.strip()\n",
    "\n",
    "\n",
    "prediction = predict_label(sample_row)\n",
    "\n",
    "print(prediction)\n",
    "print()\n",
    "print(\"Correct!\" if prediction == sample_label else \"Incorrect.\")"
   ]
  },
  {
   "cell_type": "code",
   "execution_count": 15,
   "id": "5fa014fc",
   "metadata": {
    "execution": {
     "iopub.execute_input": "2025-04-03T09:26:00.141186Z",
     "iopub.status.busy": "2025-04-03T09:26:00.140821Z",
     "iopub.status.idle": "2025-04-03T09:27:46.658542Z",
     "shell.execute_reply": "2025-04-03T09:27:46.657070Z"
    },
    "papermill": {
     "duration": 106.526863,
     "end_time": "2025-04-03T09:27:46.660295",
     "exception": false,
     "start_time": "2025-04-03T09:26:00.133432",
     "status": "completed"
    },
    "tags": []
   },
   "outputs": [
    {
     "data": {
      "application/vnd.jupyter.widget-view+json": {
       "model_id": "c9b7160483c7453f8ca02fa30a0f2042",
       "version_major": 2,
       "version_minor": 0
      },
      "text/plain": [
       "Output()"
      ]
     },
     "metadata": {},
     "output_type": "display_data"
    },
    {
     "data": {
      "text/html": [
       "<pre style=\"white-space:pre;overflow-x:auto;line-height:normal;font-family:Menlo,'DejaVu Sans Mono',consolas,'Courier New',monospace\"></pre>\n"
      ],
      "text/plain": []
     },
     "metadata": {},
     "output_type": "display_data"
    },
    {
     "name": "stdout",
     "output_type": "stream",
     "text": [
      "Accuracy: 18.75%\n"
     ]
    }
   ],
   "source": [
    "import tqdm\n",
    "from tqdm.rich import tqdm as tqdmr\n",
    "import warnings\n",
    "\n",
    "# Enable tqdm features on Pandas.\n",
    "tqdmr.pandas()\n",
    "\n",
    "# But suppress the experimental warning\n",
    "warnings.filterwarnings(\"ignore\", category=tqdm.TqdmExperimentalWarning)\n",
    "\n",
    "\n",
    "# Further sample the test data to be mindful of the free-tier quota.\n",
    "df_baseline_eval = sample_data(df_test, 2, '.*')\n",
    "\n",
    "# Make predictions using the sampled data.\n",
    "df_baseline_eval['Prediction'] = df_baseline_eval['Text'].progress_apply(predict_label)\n",
    "\n",
    "# And calculate the accuracy.\n",
    "accuracy = (df_baseline_eval[\"Class Name\"] == df_baseline_eval[\"Prediction\"]).sum() / len(df_baseline_eval)\n",
    "print(f\"Accuracy: {accuracy:.2%}\")"
   ]
  },
  {
   "cell_type": "code",
   "execution_count": 16,
   "id": "49ea0749",
   "metadata": {
    "execution": {
     "iopub.execute_input": "2025-04-03T09:27:49.559913Z",
     "iopub.status.busy": "2025-04-03T09:27:49.559636Z",
     "iopub.status.idle": "2025-04-03T09:27:49.571515Z",
     "shell.execute_reply": "2025-04-03T09:27:49.570181Z"
    },
    "papermill": {
     "duration": 2.902734,
     "end_time": "2025-04-03T09:27:49.573189",
     "exception": false,
     "start_time": "2025-04-03T09:27:46.670455",
     "status": "completed"
    },
    "tags": []
   },
   "outputs": [
    {
     "data": {
      "text/html": [
       "<div>\n",
       "<style scoped>\n",
       "    .dataframe tbody tr th:only-of-type {\n",
       "        vertical-align: middle;\n",
       "    }\n",
       "\n",
       "    .dataframe tbody tr th {\n",
       "        vertical-align: top;\n",
       "    }\n",
       "\n",
       "    .dataframe thead th {\n",
       "        text-align: right;\n",
       "    }\n",
       "</style>\n",
       "<table border=\"1\" class=\"dataframe\">\n",
       "  <thead>\n",
       "    <tr style=\"text-align: right;\">\n",
       "      <th></th>\n",
       "      <th>Text</th>\n",
       "      <th>Label</th>\n",
       "      <th>Class Name</th>\n",
       "      <th>Prediction</th>\n",
       "    </tr>\n",
       "  </thead>\n",
       "  <tbody>\n",
       "    <tr>\n",
       "      <th>0</th>\n",
       "      <td>Re: Mercury Villager Minivan -- good buy?\\n\\nI...</td>\n",
       "      <td>7</td>\n",
       "      <td>rec.autos</td>\n",
       "      <td>rec.autos</td>\n",
       "    </tr>\n",
       "    <tr>\n",
       "      <th>1</th>\n",
       "      <td>Re: Viper Car Alarms\\n\\nIn article &lt;&gt;,  (Ronal...</td>\n",
       "      <td>7</td>\n",
       "      <td>rec.autos</td>\n",
       "      <td>rec.autos.sports.cars</td>\n",
       "    </tr>\n",
       "    <tr>\n",
       "      <th>2</th>\n",
       "      <td>Re: Why I wanted police officers to answer my ...</td>\n",
       "      <td>8</td>\n",
       "      <td>rec.motorcycles</td>\n",
       "      <td>rec.motorcycles</td>\n",
       "    </tr>\n",
       "    <tr>\n",
       "      <th>3</th>\n",
       "      <td>Re: dogs\\n\\nIn article &lt;&gt;,  (Charles Parr) wri...</td>\n",
       "      <td>8</td>\n",
       "      <td>rec.motorcycles</td>\n",
       "      <td>rec.pets.dogs</td>\n",
       "    </tr>\n",
       "    <tr>\n",
       "      <th>4</th>\n",
       "      <td>Twins Update 4-22\\n\\n\\nTWINS UPDATE --  Posted...</td>\n",
       "      <td>9</td>\n",
       "      <td>rec.sport.baseball</td>\n",
       "      <td>rec.sports.baseball.mlb</td>\n",
       "    </tr>\n",
       "    <tr>\n",
       "      <th>5</th>\n",
       "      <td>Re: Juggling Dodgers\\n\\nIn &lt;&gt;  (Mark Singer) w...</td>\n",
       "      <td>9</td>\n",
       "      <td>rec.sport.baseball</td>\n",
       "      <td>rec.sports.baseball</td>\n",
       "    </tr>\n",
       "    <tr>\n",
       "      <th>6</th>\n",
       "      <td>NHL PLAYOFF RESULTS FOR GAMES PLAYED 4-22-93\\n...</td>\n",
       "      <td>10</td>\n",
       "      <td>rec.sport.hockey</td>\n",
       "      <td>rec.sports.hockey</td>\n",
       "    </tr>\n",
       "    <tr>\n",
       "      <th>7</th>\n",
       "      <td>Re: Trivia question\\n\\nWhat sadist brought up ...</td>\n",
       "      <td>10</td>\n",
       "      <td>rec.sport.hockey</td>\n",
       "      <td>rec.hockey</td>\n",
       "    </tr>\n",
       "    <tr>\n",
       "      <th>8</th>\n",
       "      <td>Re: Overreacting (was Re: Once tapped, your co...</td>\n",
       "      <td>11</td>\n",
       "      <td>sci.crypt</td>\n",
       "      <td>(error)</td>\n",
       "    </tr>\n",
       "    <tr>\n",
       "      <th>9</th>\n",
       "      <td>Crypto papers on the net.\\n\\n   I've recently ...</td>\n",
       "      <td>11</td>\n",
       "      <td>sci.crypt</td>\n",
       "      <td>(error)</td>\n",
       "    </tr>\n",
       "    <tr>\n",
       "      <th>10</th>\n",
       "      <td>Re: ATARI 2600 Processors\\n\\nIn article &lt;&gt;  (S...</td>\n",
       "      <td>12</td>\n",
       "      <td>sci.electronics</td>\n",
       "      <td>rec.games.video.atari.misc</td>\n",
       "    </tr>\n",
       "    <tr>\n",
       "      <th>11</th>\n",
       "      <td>Re: Adcom cheap products?\\n\\nMuch deleted abou...</td>\n",
       "      <td>12</td>\n",
       "      <td>sci.electronics</td>\n",
       "      <td>rec.audio.high-end</td>\n",
       "    </tr>\n",
       "    <tr>\n",
       "      <th>12</th>\n",
       "      <td>Re: Pregnency without sex?\\n\\nIn article &lt;&gt;, H...</td>\n",
       "      <td>13</td>\n",
       "      <td>sci.med</td>\n",
       "      <td>(error)</td>\n",
       "    </tr>\n",
       "    <tr>\n",
       "      <th>13</th>\n",
       "      <td>BIOLOGICAL ALCHEMY\\n\\n          \\n\\n          ...</td>\n",
       "      <td>13</td>\n",
       "      <td>sci.med</td>\n",
       "      <td>alt.sci.physics</td>\n",
       "    </tr>\n",
       "    <tr>\n",
       "      <th>14</th>\n",
       "      <td>Re: Human Habitale Planets?\\n\\nIn article &lt;&gt;  ...</td>\n",
       "      <td>14</td>\n",
       "      <td>sci.space</td>\n",
       "      <td>sci.space</td>\n",
       "    </tr>\n",
       "    <tr>\n",
       "      <th>15</th>\n",
       "      <td>Re: Gps launch\\n\\nNext GPS launch is scheduled...</td>\n",
       "      <td>14</td>\n",
       "      <td>sci.space</td>\n",
       "      <td>misc.space</td>\n",
       "    </tr>\n",
       "  </tbody>\n",
       "</table>\n",
       "</div>"
      ],
      "text/plain": [
       "                                                 Text  Label  \\\n",
       "0   Re: Mercury Villager Minivan -- good buy?\\n\\nI...      7   \n",
       "1   Re: Viper Car Alarms\\n\\nIn article <>,  (Ronal...      7   \n",
       "2   Re: Why I wanted police officers to answer my ...      8   \n",
       "3   Re: dogs\\n\\nIn article <>,  (Charles Parr) wri...      8   \n",
       "4   Twins Update 4-22\\n\\n\\nTWINS UPDATE --  Posted...      9   \n",
       "5   Re: Juggling Dodgers\\n\\nIn <>  (Mark Singer) w...      9   \n",
       "6   NHL PLAYOFF RESULTS FOR GAMES PLAYED 4-22-93\\n...     10   \n",
       "7   Re: Trivia question\\n\\nWhat sadist brought up ...     10   \n",
       "8   Re: Overreacting (was Re: Once tapped, your co...     11   \n",
       "9   Crypto papers on the net.\\n\\n   I've recently ...     11   \n",
       "10  Re: ATARI 2600 Processors\\n\\nIn article <>  (S...     12   \n",
       "11  Re: Adcom cheap products?\\n\\nMuch deleted abou...     12   \n",
       "12  Re: Pregnency without sex?\\n\\nIn article <>, H...     13   \n",
       "13  BIOLOGICAL ALCHEMY\\n\\n          \\n\\n          ...     13   \n",
       "14  Re: Human Habitale Planets?\\n\\nIn article <>  ...     14   \n",
       "15  Re: Gps launch\\n\\nNext GPS launch is scheduled...     14   \n",
       "\n",
       "            Class Name                  Prediction  \n",
       "0            rec.autos                   rec.autos  \n",
       "1            rec.autos       rec.autos.sports.cars  \n",
       "2      rec.motorcycles             rec.motorcycles  \n",
       "3      rec.motorcycles               rec.pets.dogs  \n",
       "4   rec.sport.baseball     rec.sports.baseball.mlb  \n",
       "5   rec.sport.baseball         rec.sports.baseball  \n",
       "6     rec.sport.hockey           rec.sports.hockey  \n",
       "7     rec.sport.hockey                  rec.hockey  \n",
       "8            sci.crypt                     (error)  \n",
       "9            sci.crypt                     (error)  \n",
       "10     sci.electronics  rec.games.video.atari.misc  \n",
       "11     sci.electronics          rec.audio.high-end  \n",
       "12             sci.med                     (error)  \n",
       "13             sci.med             alt.sci.physics  \n",
       "14           sci.space                   sci.space  \n",
       "15           sci.space                  misc.space  "
      ]
     },
     "execution_count": 16,
     "metadata": {},
     "output_type": "execute_result"
    }
   ],
   "source": [
    "df_baseline_eval"
   ]
  },
  {
   "cell_type": "code",
   "execution_count": 17,
   "id": "57e7adaf",
   "metadata": {
    "execution": {
     "iopub.execute_input": "2025-04-03T09:27:49.589066Z",
     "iopub.status.busy": "2025-04-03T09:27:49.588660Z",
     "iopub.status.idle": "2025-04-03T09:27:49.671836Z",
     "shell.execute_reply": "2025-04-03T09:27:49.670852Z"
    },
    "papermill": {
     "duration": 0.092759,
     "end_time": "2025-04-03T09:27:49.673619",
     "exception": false,
     "start_time": "2025-04-03T09:27:49.580860",
     "status": "completed"
    },
    "tags": []
   },
   "outputs": [
    {
     "name": "stdout",
     "output_type": "stream",
     "text": [
      "Found queued model, still waiting.\n",
      "tunedModels/newsgroup-classification-model-3bc76sgw2\n"
     ]
    }
   ],
   "source": [
    "from collections.abc import Iterable\n",
    "import random\n",
    "\n",
    "\n",
    "# Convert the data frame into a dataset suitable for tuning.\n",
    "input_data = {'examples': \n",
    "    df_train[['Text', 'Class Name']]\n",
    "      .rename(columns={'Text': 'textInput', 'Class Name': 'output'})\n",
    "      .to_dict(orient='records')\n",
    " }\n",
    "\n",
    "# If you are re-running this lab, add your model_id here.\n",
    "model_id = None\n",
    "\n",
    "# Or try and find a recent tuning job.\n",
    "if not model_id:\n",
    "  queued_model = None\n",
    "  # Newest models first.\n",
    "  for m in reversed(client.tunings.list()):\n",
    "    # Only look at newsgroup classification models.\n",
    "    if m.name.startswith('tunedModels/newsgroup-classification-model'):\n",
    "      # If there is a completed model, use the first (newest) one.\n",
    "      if m.state.name == 'JOB_STATE_SUCCEEDED':\n",
    "        model_id = m.name\n",
    "        print('Found existing tuned model to reuse.')\n",
    "        break\n",
    "\n",
    "      elif m.state.name == 'JOB_STATE_RUNNING' and not queued_model:\n",
    "        # If there's a model still queued, remember the most recent one.\n",
    "        queued_model = m.name\n",
    "  else:\n",
    "    if queued_model:\n",
    "      model_id = queued_model\n",
    "      print('Found queued model, still waiting.')\n",
    "\n",
    "\n",
    "# Upload the training data and queue the tuning job.\n",
    "if not model_id:\n",
    "    tuning_op = client.tunings.tune(\n",
    "        base_model=\"models/gemini-1.5-flash-001-tuning\",\n",
    "        training_dataset=input_data,\n",
    "        config=types.CreateTuningJobConfig(\n",
    "            tuned_model_display_name=\"Newsgroup classification model\",\n",
    "            batch_size=16,\n",
    "            epoch_count=2,\n",
    "        ),\n",
    "    )\n",
    "\n",
    "    print(tuning_op.state)\n",
    "    model_id = tuning_op.name\n",
    "\n",
    "print(model_id)"
   ]
  },
  {
   "cell_type": "code",
   "execution_count": 18,
   "id": "55a5d937",
   "metadata": {
    "execution": {
     "iopub.execute_input": "2025-04-03T09:27:49.688839Z",
     "iopub.status.busy": "2025-04-03T09:27:49.688450Z",
     "iopub.status.idle": "2025-04-03T09:28:50.194946Z",
     "shell.execute_reply": "2025-04-03T09:28:50.193880Z"
    },
    "papermill": {
     "duration": 60.516055,
     "end_time": "2025-04-03T09:28:50.196737",
     "exception": false,
     "start_time": "2025-04-03T09:27:49.680682",
     "status": "completed"
    },
    "tags": []
   },
   "outputs": [
    {
     "name": "stdout",
     "output_type": "stream",
     "text": [
      "JobState.JOB_STATE_RUNNING\n",
      "Taking a shortcut, using a previously prepared model.\n",
      "Done! The model state is: JOB_STATE_SUCCEEDED\n"
     ]
    }
   ],
   "source": [
    "import datetime\n",
    "import time\n",
    "\n",
    "\n",
    "MAX_WAIT = datetime.timedelta(minutes=10)\n",
    "\n",
    "while not (tuned_model := client.tunings.get(name=model_id)).has_ended:\n",
    "\n",
    "    print(tuned_model.state)\n",
    "    time.sleep(60)\n",
    "\n",
    "    # Don't wait too long. Use a public model if this is going to take a while.\n",
    "    if datetime.datetime.now(datetime.timezone.utc) - tuned_model.create_time > MAX_WAIT:\n",
    "        print(\"Taking a shortcut, using a previously prepared model.\")\n",
    "        model_id = \"tunedModels/newsgroup-classification-model-ltenbi1b\"\n",
    "        tuned_model = client.tunings.get(name=model_id)\n",
    "        break\n",
    "\n",
    "\n",
    "print(f\"Done! The model state is: {tuned_model.state.name}\")\n",
    "\n",
    "if not tuned_model.has_succeeded and tuned_model.error:\n",
    "    print(\"Error:\", tuned_model.error)"
   ]
  },
  {
   "cell_type": "code",
   "execution_count": 19,
   "id": "f895a478",
   "metadata": {
    "execution": {
     "iopub.execute_input": "2025-04-03T09:28:50.212130Z",
     "iopub.status.busy": "2025-04-03T09:28:50.211807Z",
     "iopub.status.idle": "2025-04-03T09:28:54.809388Z",
     "shell.execute_reply": "2025-04-03T09:28:54.808324Z"
    },
    "papermill": {
     "duration": 4.607258,
     "end_time": "2025-04-03T09:28:54.811216",
     "exception": false,
     "start_time": "2025-04-03T09:28:50.203958",
     "status": "completed"
    },
    "tags": []
   },
   "outputs": [
    {
     "name": "stdout",
     "output_type": "stream",
     "text": [
      "sci.space\n"
     ]
    }
   ],
   "source": [
    "new_text = \"\"\"\n",
    "First-timer looking to get out of here.\n",
    "\n",
    "Hi, I'm writing about my interest in travelling to the outer limits!\n",
    "\n",
    "What kind of craft can I buy? What is easiest to access from this 3rd rock?\n",
    "\n",
    "Let me know how to do that please.\n",
    "\"\"\"\n",
    "\n",
    "response = client.models.generate_content(\n",
    "    model=model_id, contents=new_text)\n",
    "\n",
    "print(response.text)"
   ]
  },
  {
   "cell_type": "code",
   "execution_count": 20,
   "id": "f3af2ee6",
   "metadata": {
    "execution": {
     "iopub.execute_input": "2025-04-03T09:28:54.826534Z",
     "iopub.status.busy": "2025-04-03T09:28:54.826193Z",
     "iopub.status.idle": "2025-04-03T09:31:40.674980Z",
     "shell.execute_reply": "2025-04-03T09:31:40.673770Z"
    },
    "papermill": {
     "duration": 165.858714,
     "end_time": "2025-04-03T09:31:40.677120",
     "exception": false,
     "start_time": "2025-04-03T09:28:54.818406",
     "status": "completed"
    },
    "tags": []
   },
   "outputs": [
    {
     "data": {
      "application/vnd.jupyter.widget-view+json": {
       "model_id": "50d34ffe5fd04e71b17187a31b8a4a3f",
       "version_major": 2,
       "version_minor": 0
      },
      "text/plain": [
       "Output()"
      ]
     },
     "metadata": {},
     "output_type": "display_data"
    },
    {
     "data": {
      "text/html": [
       "<pre style=\"white-space:pre;overflow-x:auto;line-height:normal;font-family:Menlo,'DejaVu Sans Mono',consolas,'Courier New',monospace\"></pre>\n"
      ],
      "text/plain": []
     },
     "metadata": {},
     "output_type": "display_data"
    },
    {
     "name": "stdout",
     "output_type": "stream",
     "text": [
      "Accuracy: 96.88%\n"
     ]
    }
   ],
   "source": [
    "@retry.Retry(predicate=is_retriable)\n",
    "def classify_text(text: str) -> str:\n",
    "    \"\"\"Classify the provided text into a known newsgroup.\"\"\"\n",
    "    response = client.models.generate_content(\n",
    "        model=model_id, contents=text)\n",
    "    rc = response.candidates[0]\n",
    "\n",
    "    # Any errors, filters, recitation, etc we can mark as a general error\n",
    "    if rc.finish_reason.name != \"STOP\":\n",
    "        return \"(error)\"\n",
    "    else:\n",
    "        return rc.content.parts[0].text\n",
    "\n",
    "\n",
    "# The sampling here is just to minimise your quota usage. If you can, you should\n",
    "# evaluate the whole test set with `df_model_eval = df_test.copy()`.\n",
    "df_model_eval = sample_data(df_test, 4, '.*')\n",
    "\n",
    "df_model_eval[\"Prediction\"] = df_model_eval[\"Text\"].progress_apply(classify_text)\n",
    "\n",
    "accuracy = (df_model_eval[\"Class Name\"] == df_model_eval[\"Prediction\"]).sum() / len(df_model_eval)\n",
    "print(f\"Accuracy: {accuracy:.2%}\")\n"
   ]
  },
  {
   "cell_type": "code",
   "execution_count": 21,
   "id": "a0c73e03",
   "metadata": {
    "execution": {
     "iopub.execute_input": "2025-04-03T09:31:45.124247Z",
     "iopub.status.busy": "2025-04-03T09:31:45.123986Z",
     "iopub.status.idle": "2025-04-03T09:31:45.276613Z",
     "shell.execute_reply": "2025-04-03T09:31:45.275430Z"
    },
    "papermill": {
     "duration": 4.590797,
     "end_time": "2025-04-03T09:31:45.278225",
     "exception": false,
     "start_time": "2025-04-03T09:31:40.687428",
     "status": "completed"
    },
    "tags": []
   },
   "outputs": [
    {
     "name": "stdout",
     "output_type": "stream",
     "text": [
      "System instructed baseline model: 172 (input)\n",
      "Tuned model: 136 (input)\n",
      "Token savings: 26.47%\n"
     ]
    }
   ],
   "source": [
    "# Calculate the *input* cost of the baseline model with system instructions.\n",
    "sysint_tokens = client.models.count_tokens(\n",
    "    model='gemini-1.5-flash-001', contents=[system_instruct, sample_row]\n",
    ").total_tokens\n",
    "print(f'System instructed baseline model: {sysint_tokens} (input)')\n",
    "\n",
    "# Calculate the input cost of the tuned model.\n",
    "tuned_tokens = client.models.count_tokens(model=tuned_model.base_model, contents=sample_row).total_tokens\n",
    "print(f'Tuned model: {tuned_tokens} (input)')\n",
    "\n",
    "savings = (sysint_tokens - tuned_tokens) / tuned_tokens\n",
    "print(f'Token savings: {savings:.2%}')  # Note that this is only n=1."
   ]
  },
  {
   "cell_type": "code",
   "execution_count": 22,
   "id": "adf142a1",
   "metadata": {
    "execution": {
     "iopub.execute_input": "2025-04-03T09:31:45.294495Z",
     "iopub.status.busy": "2025-04-03T09:31:45.294117Z",
     "iopub.status.idle": "2025-04-03T09:31:48.074292Z",
     "shell.execute_reply": "2025-04-03T09:31:48.073206Z"
    },
    "papermill": {
     "duration": 2.790178,
     "end_time": "2025-04-03T09:31:48.076073",
     "exception": false,
     "start_time": "2025-04-03T09:31:45.285895",
     "status": "completed"
    },
    "tags": []
   },
   "outputs": [
    {
     "name": "stdout",
     "output_type": "stream",
     "text": [
      "Baseline (verbose) output tokens: 161\n",
      "Tuned output tokens: 3\n"
     ]
    }
   ],
   "source": [
    "baseline_token_output = baseline_response.usage_metadata.candidates_token_count\n",
    "print('Baseline (verbose) output tokens:', baseline_token_output)\n",
    "\n",
    "tuned_model_output = client.models.generate_content(\n",
    "    model=model_id, contents=sample_row)\n",
    "tuned_tokens_output = tuned_model_output.usage_metadata.candidates_token_count\n",
    "print('Tuned output tokens:', tuned_tokens_output)"
   ]
  },
  {
   "cell_type": "code",
   "execution_count": null,
   "id": "46ddd601",
   "metadata": {
    "papermill": {
     "duration": 0.007654,
     "end_time": "2025-04-03T09:31:48.091334",
     "exception": false,
     "start_time": "2025-04-03T09:31:48.083680",
     "status": "completed"
    },
    "tags": []
   },
   "outputs": [],
   "source": []
  }
 ],
 "metadata": {
  "kaggle": {
   "accelerator": "none",
   "dataSources": [],
   "dockerImageVersionId": 30918,
   "isGpuEnabled": false,
   "isInternetEnabled": true,
   "language": "python",
   "sourceType": "notebook"
  },
  "kernelspec": {
   "display_name": "Python 3",
   "language": "python",
   "name": "python3"
  },
  "language_info": {
   "codemirror_mode": {
    "name": "ipython",
    "version": 3
   },
   "file_extension": ".py",
   "mimetype": "text/x-python",
   "name": "python",
   "nbconvert_exporter": "python",
   "pygments_lexer": "ipython3",
   "version": "3.10.12"
  },
  "papermill": {
   "default_parameters": {},
   "duration": 394.844295,
   "end_time": "2025-04-03T09:31:49.121776",
   "environment_variables": {},
   "exception": null,
   "input_path": "__notebook__.ipynb",
   "output_path": "__notebook__.ipynb",
   "parameters": {},
   "start_time": "2025-04-03T09:25:14.277481",
   "version": "2.6.0"
  },
  "widgets": {
   "application/vnd.jupyter.widget-state+json": {
    "state": {
     "50d34ffe5fd04e71b17187a31b8a4a3f": {
      "model_module": "@jupyter-widgets/output",
      "model_module_version": "1.0.0",
      "model_name": "OutputModel",
      "state": {
       "_dom_classes": [],
       "_model_module": "@jupyter-widgets/output",
       "_model_module_version": "1.0.0",
       "_model_name": "OutputModel",
       "_view_count": null,
       "_view_module": "@jupyter-widgets/output",
       "_view_module_version": "1.0.0",
       "_view_name": "OutputView",
       "layout": "IPY_MODEL_b8d61eb7473c487e9d4dcf55774f0315",
       "msg_id": "",
       "outputs": [
        {
         "data": {
          "text/html": "<pre style=\"white-space:pre;overflow-x:auto;line-height:normal;font-family:Menlo,'DejaVu Sans Mono',consolas,'Courier New',monospace\"><span style=\"color: #800080; text-decoration-color: #800080\"> 100%</span> <span style=\"color: #729c1f; text-decoration-color: #729c1f\">━━━━━━━━━━━━━━━━━━━━━━━━━━━━━━━━━━━━━━━━━━━━━━━━━━━━━━━━━━━━━━━━━━━━━━━</span> <span style=\"color: #008000; text-decoration-color: #008000\">32/32 </span> [ <span style=\"color: #808000; text-decoration-color: #808000\">0:02:43</span> &lt; <span style=\"color: #008080; text-decoration-color: #008080\">0:00:00</span> , <span style=\"color: #800000; text-decoration-color: #800000\">0 it/s</span> ]\n</pre>\n",
          "text/plain": "\u001b[35m 100%\u001b[0m \u001b[38;2;114;156;31m━━━━━━━━━━━━━━━━━━━━━━━━━━━━━━━━━━━━━━━━━━━━━━━━━━━━━━━━━━━━━━━━━━━━━━━\u001b[0m \u001b[32m32/32 \u001b[0m [ \u001b[33m0:02:43\u001b[0m < \u001b[36m0:00:00\u001b[0m , \u001b[31m0 it/s\u001b[0m ]\n"
         },
         "metadata": {},
         "output_type": "display_data"
        }
       ],
       "tabbable": null,
       "tooltip": null
      }
     },
     "b8d61eb7473c487e9d4dcf55774f0315": {
      "model_module": "@jupyter-widgets/base",
      "model_module_version": "2.0.0",
      "model_name": "LayoutModel",
      "state": {
       "_model_module": "@jupyter-widgets/base",
       "_model_module_version": "2.0.0",
       "_model_name": "LayoutModel",
       "_view_count": null,
       "_view_module": "@jupyter-widgets/base",
       "_view_module_version": "2.0.0",
       "_view_name": "LayoutView",
       "align_content": null,
       "align_items": null,
       "align_self": null,
       "border_bottom": null,
       "border_left": null,
       "border_right": null,
       "border_top": null,
       "bottom": null,
       "display": null,
       "flex": null,
       "flex_flow": null,
       "grid_area": null,
       "grid_auto_columns": null,
       "grid_auto_flow": null,
       "grid_auto_rows": null,
       "grid_column": null,
       "grid_gap": null,
       "grid_row": null,
       "grid_template_areas": null,
       "grid_template_columns": null,
       "grid_template_rows": null,
       "height": null,
       "justify_content": null,
       "justify_items": null,
       "left": null,
       "margin": null,
       "max_height": null,
       "max_width": null,
       "min_height": null,
       "min_width": null,
       "object_fit": null,
       "object_position": null,
       "order": null,
       "overflow": null,
       "padding": null,
       "right": null,
       "top": null,
       "visibility": null,
       "width": null
      }
     },
     "c9b7160483c7453f8ca02fa30a0f2042": {
      "model_module": "@jupyter-widgets/output",
      "model_module_version": "1.0.0",
      "model_name": "OutputModel",
      "state": {
       "_dom_classes": [],
       "_model_module": "@jupyter-widgets/output",
       "_model_module_version": "1.0.0",
       "_model_name": "OutputModel",
       "_view_count": null,
       "_view_module": "@jupyter-widgets/output",
       "_view_module_version": "1.0.0",
       "_view_name": "OutputView",
       "layout": "IPY_MODEL_efba1226d7c545b7acf05af67cc2bfeb",
       "msg_id": "",
       "outputs": [
        {
         "data": {
          "text/html": "<pre style=\"white-space:pre;overflow-x:auto;line-height:normal;font-family:Menlo,'DejaVu Sans Mono',consolas,'Courier New',monospace\"><span style=\"color: #800080; text-decoration-color: #800080\"> 100%</span> <span style=\"color: #729c1f; text-decoration-color: #729c1f\">━━━━━━━━━━━━━━━━━━━━━━━━━━━━━━━━━━━━━━━━━━━━━━━━━━━━━━━━━━━━━━━━━━━━━━━</span> <span style=\"color: #008000; text-decoration-color: #008000\">16/16 </span> [ <span style=\"color: #808000; text-decoration-color: #808000\">0:01:00</span> &lt; <span style=\"color: #008080; text-decoration-color: #008080\">0:00:00</span> , <span style=\"color: #800000; text-decoration-color: #800000\">0 it/s</span> ]\n</pre>\n",
          "text/plain": "\u001b[35m 100%\u001b[0m \u001b[38;2;114;156;31m━━━━━━━━━━━━━━━━━━━━━━━━━━━━━━━━━━━━━━━━━━━━━━━━━━━━━━━━━━━━━━━━━━━━━━━\u001b[0m \u001b[32m16/16 \u001b[0m [ \u001b[33m0:01:00\u001b[0m < \u001b[36m0:00:00\u001b[0m , \u001b[31m0 it/s\u001b[0m ]\n"
         },
         "metadata": {},
         "output_type": "display_data"
        }
       ],
       "tabbable": null,
       "tooltip": null
      }
     },
     "efba1226d7c545b7acf05af67cc2bfeb": {
      "model_module": "@jupyter-widgets/base",
      "model_module_version": "2.0.0",
      "model_name": "LayoutModel",
      "state": {
       "_model_module": "@jupyter-widgets/base",
       "_model_module_version": "2.0.0",
       "_model_name": "LayoutModel",
       "_view_count": null,
       "_view_module": "@jupyter-widgets/base",
       "_view_module_version": "2.0.0",
       "_view_name": "LayoutView",
       "align_content": null,
       "align_items": null,
       "align_self": null,
       "border_bottom": null,
       "border_left": null,
       "border_right": null,
       "border_top": null,
       "bottom": null,
       "display": null,
       "flex": null,
       "flex_flow": null,
       "grid_area": null,
       "grid_auto_columns": null,
       "grid_auto_flow": null,
       "grid_auto_rows": null,
       "grid_column": null,
       "grid_gap": null,
       "grid_row": null,
       "grid_template_areas": null,
       "grid_template_columns": null,
       "grid_template_rows": null,
       "height": null,
       "justify_content": null,
       "justify_items": null,
       "left": null,
       "margin": null,
       "max_height": null,
       "max_width": null,
       "min_height": null,
       "min_width": null,
       "object_fit": null,
       "object_position": null,
       "order": null,
       "overflow": null,
       "padding": null,
       "right": null,
       "top": null,
       "visibility": null,
       "width": null
      }
     }
    },
    "version_major": 2,
    "version_minor": 0
   }
  }
 },
 "nbformat": 4,
 "nbformat_minor": 5
}
