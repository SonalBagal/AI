{
 "cells": [
  {
   "cell_type": "code",
   "execution_count": 1,
   "id": "61261e4d",
   "metadata": {
    "_cell_guid": "b1076dfc-b9ad-4769-8c92-a6c4dae69d19",
    "_uuid": "8f2839f25d086af736a60e9eeb907d3b93b6e0e5",
    "execution": {
     "iopub.execute_input": "2025-04-03T09:49:32.387990Z",
     "iopub.status.busy": "2025-04-03T09:49:32.387639Z",
     "iopub.status.idle": "2025-04-03T09:49:33.252893Z",
     "shell.execute_reply": "2025-04-03T09:49:33.252096Z"
    },
    "papermill": {
     "duration": 0.871999,
     "end_time": "2025-04-03T09:49:33.254665",
     "exception": false,
     "start_time": "2025-04-03T09:49:32.382666",
     "status": "completed"
    },
    "tags": []
   },
   "outputs": [],
   "source": [
    "# This Python 3 environment comes with many helpful analytics libraries installed\n",
    "# It is defined by the kaggle/python Docker image: https://github.com/kaggle/docker-python\n",
    "# For example, here's several helpful packages to load\n",
    "\n",
    "import numpy as np # linear algebra\n",
    "import pandas as pd # data processing, CSV file I/O (e.g. pd.read_csv)\n",
    "\n",
    "# Input data files are available in the read-only \"../input/\" directory\n",
    "# For example, running this (by clicking run or pressing Shift+Enter) will list all files under the input directory\n",
    "\n",
    "import os\n",
    "for dirname, _, filenames in os.walk('/kaggle/input'):\n",
    "    for filename in filenames:\n",
    "        print(os.path.join(dirname, filename))\n",
    "\n",
    "# You can write up to 20GB to the current directory (/kaggle/working/) that gets preserved as output when you create a version using \"Save & Run All\" \n",
    "# You can also write temporary files to /kaggle/temp/, but they won't be saved outside of the current session"
   ]
  },
  {
   "cell_type": "code",
   "execution_count": 2,
   "id": "1d5c3812",
   "metadata": {
    "execution": {
     "iopub.execute_input": "2025-04-03T09:49:33.263217Z",
     "iopub.status.busy": "2025-04-03T09:49:33.262786Z",
     "iopub.status.idle": "2025-04-03T09:49:41.263760Z",
     "shell.execute_reply": "2025-04-03T09:49:41.262742Z"
    },
    "papermill": {
     "duration": 8.007059,
     "end_time": "2025-04-03T09:49:41.265648",
     "exception": false,
     "start_time": "2025-04-03T09:49:33.258589",
     "status": "completed"
    },
    "tags": []
   },
   "outputs": [
    {
     "name": "stdout",
     "output_type": "stream",
     "text": [
      "\u001b[2K   \u001b[90m━━━━━━━━━━━━━━━━━━━━━━━━━━━━━━━━━━━━━━━━\u001b[0m \u001b[32m144.7/144.7 kB\u001b[0m \u001b[31m4.8 MB/s\u001b[0m eta \u001b[36m0:00:00\u001b[0m\r\n",
      "\u001b[2K   \u001b[90m━━━━━━━━━━━━━━━━━━━━━━━━━━━━━━━━━━━━━━━━\u001b[0m \u001b[32m100.9/100.9 kB\u001b[0m \u001b[31m6.3 MB/s\u001b[0m eta \u001b[36m0:00:00\u001b[0m\r\n",
      "\u001b[?25h"
     ]
    }
   ],
   "source": [
    "# Uninstall packages from Kaggle base image that are not needed.\n",
    "!pip uninstall -qy jupyterlab jupyterlab-lsp\n",
    "# Install the google-genai SDK for this codelab.\n",
    "!pip install -qU 'google-genai==1.7.0'"
   ]
  },
  {
   "cell_type": "code",
   "execution_count": 3,
   "id": "c3b6fb5e",
   "metadata": {
    "execution": {
     "iopub.execute_input": "2025-04-03T09:49:41.274243Z",
     "iopub.status.busy": "2025-04-03T09:49:41.273928Z",
     "iopub.status.idle": "2025-04-03T09:49:42.495597Z",
     "shell.execute_reply": "2025-04-03T09:49:42.494693Z"
    },
    "papermill": {
     "duration": 1.227728,
     "end_time": "2025-04-03T09:49:42.497183",
     "exception": false,
     "start_time": "2025-04-03T09:49:41.269455",
     "status": "completed"
    },
    "tags": []
   },
   "outputs": [
    {
     "data": {
      "text/plain": [
       "'1.7.0'"
      ]
     },
     "execution_count": 3,
     "metadata": {},
     "output_type": "execute_result"
    }
   ],
   "source": [
    "from google import genai\n",
    "from google.genai import types\n",
    "\n",
    "from IPython.display import Markdown, HTML, display\n",
    "\n",
    "genai.__version__"
   ]
  },
  {
   "cell_type": "code",
   "execution_count": 4,
   "id": "3ce7219a",
   "metadata": {
    "execution": {
     "iopub.execute_input": "2025-04-03T09:49:42.505558Z",
     "iopub.status.busy": "2025-04-03T09:49:42.505106Z",
     "iopub.status.idle": "2025-04-03T09:49:42.957210Z",
     "shell.execute_reply": "2025-04-03T09:49:42.956197Z"
    },
    "papermill": {
     "duration": 0.458001,
     "end_time": "2025-04-03T09:49:42.958933",
     "exception": false,
     "start_time": "2025-04-03T09:49:42.500932",
     "status": "completed"
    },
    "tags": []
   },
   "outputs": [],
   "source": [
    "from kaggle_secrets import UserSecretsClient\n",
    "\n",
    "GOOGLE_API_KEY = UserSecretsClient().get_secret(\"GOOGLE_API_KEY\")\n",
    "\n",
    "client = genai.Client(api_key=GOOGLE_API_KEY)"
   ]
  },
  {
   "cell_type": "code",
   "execution_count": 5,
   "id": "29dbf1d7",
   "metadata": {
    "execution": {
     "iopub.execute_input": "2025-04-03T09:49:42.967988Z",
     "iopub.status.busy": "2025-04-03T09:49:42.967483Z",
     "iopub.status.idle": "2025-04-03T09:49:43.170748Z",
     "shell.execute_reply": "2025-04-03T09:49:43.169882Z"
    },
    "papermill": {
     "duration": 0.20953,
     "end_time": "2025-04-03T09:49:43.172419",
     "exception": false,
     "start_time": "2025-04-03T09:49:42.962889",
     "status": "completed"
    },
    "tags": []
   },
   "outputs": [],
   "source": [
    "# Define a retry policy. The model might make multiple consecutive calls automatically\n",
    "# for a complex query, this ensures the client retries if it hits quota limits.\n",
    "from google.api_core import retry\n",
    "\n",
    "is_retriable = lambda e: (isinstance(e, genai.errors.APIError) and e.code in {429, 503})\n",
    "\n",
    "if not hasattr(genai.models.Models.generate_content, '__wrapped__'):\n",
    "  genai.models.Models.generate_content = retry.Retry(\n",
    "      predicate=is_retriable)(genai.models.Models.generate_content)"
   ]
  },
  {
   "cell_type": "code",
   "execution_count": 6,
   "id": "65542e34",
   "metadata": {
    "execution": {
     "iopub.execute_input": "2025-04-03T09:49:43.180972Z",
     "iopub.status.busy": "2025-04-03T09:49:43.180479Z",
     "iopub.status.idle": "2025-04-03T09:49:44.451599Z",
     "shell.execute_reply": "2025-04-03T09:49:44.450690Z"
    },
    "papermill": {
     "duration": 1.276959,
     "end_time": "2025-04-03T09:49:44.453173",
     "exception": false,
     "start_time": "2025-04-03T09:49:43.176214",
     "status": "completed"
    },
    "tags": []
   },
   "outputs": [
    {
     "data": {
      "text/markdown": [
       "Unfortunately, I don't have access to real-time information, including Billie Eilish's constantly updating concert schedule.\n",
       "\n",
       "Here's how you can find the most up-to-date information about her concert dates:\n",
       "\n",
       "*   **Billie Eilish's Official Website:** This is the best place to start. Look for a \"Tour\" or \"Events\" section.\n",
       "*   **Ticket Vendor Websites:** Check sites like Ticketmaster, Live Nation, etc. They will often have tour schedules listed when tickets go on sale.\n",
       "*   **Social Media:** Follow Billie Eilish on her social media accounts (Instagram, Twitter/X, Facebook). She usually announces tour dates there.\n",
       "*   **Google Search:** Search for \"Billie Eilish tour dates\" to see if any news articles or aggregated listings pop up."
      ],
      "text/plain": [
       "<IPython.core.display.Markdown object>"
      ]
     },
     "execution_count": 6,
     "metadata": {},
     "output_type": "execute_result"
    }
   ],
   "source": [
    "# Ask for information without search grounding.\n",
    "response = client.models.generate_content(\n",
    "    model='gemini-2.0-flash',\n",
    "    contents=\"When and where is Billie Eilish's next concert?\")\n",
    "\n",
    "Markdown(response.text)"
   ]
  },
  {
   "cell_type": "code",
   "execution_count": 7,
   "id": "a81aead9",
   "metadata": {
    "execution": {
     "iopub.execute_input": "2025-04-03T09:49:44.462107Z",
     "iopub.status.busy": "2025-04-03T09:49:44.461798Z",
     "iopub.status.idle": "2025-04-03T09:49:45.663714Z",
     "shell.execute_reply": "2025-04-03T09:49:45.662789Z"
    },
    "papermill": {
     "duration": 1.208009,
     "end_time": "2025-04-03T09:49:45.665313",
     "exception": false,
     "start_time": "2025-04-03T09:49:44.457304",
     "status": "completed"
    },
    "tags": []
   },
   "outputs": [
    {
     "data": {
      "text/markdown": [
       "Billie Eilish's next concert is on April 23, 2025, at the Avicii Arena in Stockholm, Sweden.\n"
      ],
      "text/plain": [
       "<IPython.core.display.Markdown object>"
      ]
     },
     "execution_count": 7,
     "metadata": {},
     "output_type": "execute_result"
    }
   ],
   "source": [
    "# And now re-run the same query with search grounding enabled.\n",
    "config_with_search = types.GenerateContentConfig(\n",
    "    tools=[types.Tool(google_search=types.GoogleSearch())],\n",
    ")\n",
    "\n",
    "response = client.models.generate_content(\n",
    "    model='gemini-2.0-flash',\n",
    "    contents=\"When and where is Billie Eilish's next concert?\",\n",
    "    config=config_with_search,\n",
    ")\n",
    "\n",
    "rc = response.candidates[0]\n",
    "\n",
    "Markdown(rc.content.parts[0].text)"
   ]
  },
  {
   "cell_type": "code",
   "execution_count": 8,
   "id": "32643410",
   "metadata": {
    "execution": {
     "iopub.execute_input": "2025-04-03T09:49:45.674194Z",
     "iopub.status.busy": "2025-04-03T09:49:45.673894Z",
     "iopub.status.idle": "2025-04-03T09:49:45.678922Z",
     "shell.execute_reply": "2025-04-03T09:49:45.677624Z"
    },
    "papermill": {
     "duration": 0.011601,
     "end_time": "2025-04-03T09:49:45.680893",
     "exception": false,
     "start_time": "2025-04-03T09:49:45.669292",
     "status": "completed"
    },
    "tags": []
   },
   "outputs": [
    {
     "name": "stdout",
     "output_type": "stream",
     "text": [
      "ticketmaster.co.uk: https://vertexaisearch.cloud.google.com/grounding-api-redirect/AWQVqAKgu8tpIN7ULkd3y0XAditIVxBWQf-E31bMC6qvMJnzUATaGz3SSoMga5a6JoT6XUFSlC4k0de6r8YuL_82e-8NUKPfeHDI5v6jIYrLArDchORXCgBGoy-k8BXp9-sGI863_r7_eA0UCGvj8bnRJXRWYg-ALcZUYUI68-76Tw==\n",
      "ticketmaster.com: https://vertexaisearch.cloud.google.com/grounding-api-redirect/AWQVqAKpYhGciBAJWTiQlHFFEV-mnCmHWVFiW8TtILepvy26DZvs7IJ5VpZlfYh0l1tZ4kKBw8qw9dAm19uFncgBriQNCi8tiYG2UfpvvzE64uHdaglExpRf-de4oaXCJ05wuWm7PhRs22i8xOTfFRGxo-2p7u2N7l1qwk6MJYM=\n"
     ]
    }
   ],
   "source": [
    "chunks = rc.grounding_metadata.grounding_chunks\n",
    "for chunk in chunks:\n",
    "    print(f'{chunk.web.title}: {chunk.web.uri}')"
   ]
  },
  {
   "cell_type": "code",
   "execution_count": 9,
   "id": "948f9569",
   "metadata": {
    "execution": {
     "iopub.execute_input": "2025-04-03T09:49:45.690274Z",
     "iopub.status.busy": "2025-04-03T09:49:45.689983Z",
     "iopub.status.idle": "2025-04-03T09:49:45.695388Z",
     "shell.execute_reply": "2025-04-03T09:49:45.694483Z"
    },
    "papermill": {
     "duration": 0.011558,
     "end_time": "2025-04-03T09:49:45.696748",
     "exception": false,
     "start_time": "2025-04-03T09:49:45.685190",
     "status": "completed"
    },
    "tags": []
   },
   "outputs": [
    {
     "data": {
      "text/html": [
       "<style>\n",
       ".container {\n",
       "  align-items: center;\n",
       "  border-radius: 8px;\n",
       "  display: flex;\n",
       "  font-family: Google Sans, Roboto, sans-serif;\n",
       "  font-size: 14px;\n",
       "  line-height: 20px;\n",
       "  padding: 8px 12px;\n",
       "}\n",
       ".chip {\n",
       "  display: inline-block;\n",
       "  border: solid 1px;\n",
       "  border-radius: 16px;\n",
       "  min-width: 14px;\n",
       "  padding: 5px 16px;\n",
       "  text-align: center;\n",
       "  user-select: none;\n",
       "  margin: 0 8px;\n",
       "  -webkit-tap-highlight-color: transparent;\n",
       "}\n",
       ".carousel {\n",
       "  overflow: auto;\n",
       "  scrollbar-width: none;\n",
       "  white-space: nowrap;\n",
       "  margin-right: -12px;\n",
       "}\n",
       ".headline {\n",
       "  display: flex;\n",
       "  margin-right: 4px;\n",
       "}\n",
       ".gradient-container {\n",
       "  position: relative;\n",
       "}\n",
       ".gradient {\n",
       "  position: absolute;\n",
       "  transform: translate(3px, -9px);\n",
       "  height: 36px;\n",
       "  width: 9px;\n",
       "}\n",
       "@media (prefers-color-scheme: light) {\n",
       "  .container {\n",
       "    background-color: #fafafa;\n",
       "    box-shadow: 0 0 0 1px #0000000f;\n",
       "  }\n",
       "  .headline-label {\n",
       "    color: #1f1f1f;\n",
       "  }\n",
       "  .chip {\n",
       "    background-color: #ffffff;\n",
       "    border-color: #d2d2d2;\n",
       "    color: #5e5e5e;\n",
       "    text-decoration: none;\n",
       "  }\n",
       "  .chip:hover {\n",
       "    background-color: #f2f2f2;\n",
       "  }\n",
       "  .chip:focus {\n",
       "    background-color: #f2f2f2;\n",
       "  }\n",
       "  .chip:active {\n",
       "    background-color: #d8d8d8;\n",
       "    border-color: #b6b6b6;\n",
       "  }\n",
       "  .logo-dark {\n",
       "    display: none;\n",
       "  }\n",
       "  .gradient {\n",
       "    background: linear-gradient(90deg, #fafafa 15%, #fafafa00 100%);\n",
       "  }\n",
       "}\n",
       "@media (prefers-color-scheme: dark) {\n",
       "  .container {\n",
       "    background-color: #1f1f1f;\n",
       "    box-shadow: 0 0 0 1px #ffffff26;\n",
       "  }\n",
       "  .headline-label {\n",
       "    color: #fff;\n",
       "  }\n",
       "  .chip {\n",
       "    background-color: #2c2c2c;\n",
       "    border-color: #3c4043;\n",
       "    color: #fff;\n",
       "    text-decoration: none;\n",
       "  }\n",
       "  .chip:hover {\n",
       "    background-color: #353536;\n",
       "  }\n",
       "  .chip:focus {\n",
       "    background-color: #353536;\n",
       "  }\n",
       "  .chip:active {\n",
       "    background-color: #464849;\n",
       "    border-color: #53575b;\n",
       "  }\n",
       "  .logo-light {\n",
       "    display: none;\n",
       "  }\n",
       "  .gradient {\n",
       "    background: linear-gradient(90deg, #1f1f1f 15%, #1f1f1f00 100%);\n",
       "  }\n",
       "}\n",
       "</style>\n",
       "<div class=\"container\">\n",
       "  <div class=\"headline\">\n",
       "    <svg class=\"logo-light\" width=\"18\" height=\"18\" viewBox=\"9 9 35 35\" fill=\"none\" xmlns=\"http://www.w3.org/2000/svg\">\n",
       "      <path fill-rule=\"evenodd\" clip-rule=\"evenodd\" d=\"M42.8622 27.0064C42.8622 25.7839 42.7525 24.6084 42.5487 23.4799H26.3109V30.1568H35.5897C35.1821 32.3041 33.9596 34.1222 32.1258 35.3448V39.6864H37.7213C40.9814 36.677 42.8622 32.2571 42.8622 27.0064V27.0064Z\" fill=\"#4285F4\"/>\n",
       "      <path fill-rule=\"evenodd\" clip-rule=\"evenodd\" d=\"M26.3109 43.8555C30.9659 43.8555 34.8687 42.3195 37.7213 39.6863L32.1258 35.3447C30.5898 36.3792 28.6306 37.0061 26.3109 37.0061C21.8282 37.0061 18.0195 33.9811 16.6559 29.906H10.9194V34.3573C13.7563 39.9841 19.5712 43.8555 26.3109 43.8555V43.8555Z\" fill=\"#34A853\"/>\n",
       "      <path fill-rule=\"evenodd\" clip-rule=\"evenodd\" d=\"M16.6559 29.8904C16.3111 28.8559 16.1074 27.7588 16.1074 26.6146C16.1074 25.4704 16.3111 24.3733 16.6559 23.3388V18.8875H10.9194C9.74388 21.2072 9.06992 23.8247 9.06992 26.6146C9.06992 29.4045 9.74388 32.022 10.9194 34.3417L15.3864 30.8621L16.6559 29.8904V29.8904Z\" fill=\"#FBBC05\"/>\n",
       "      <path fill-rule=\"evenodd\" clip-rule=\"evenodd\" d=\"M26.3109 16.2386C28.85 16.2386 31.107 17.1164 32.9095 18.8091L37.8466 13.8719C34.853 11.082 30.9659 9.3736 26.3109 9.3736C19.5712 9.3736 13.7563 13.245 10.9194 18.8875L16.6559 23.3388C18.0195 19.2636 21.8282 16.2386 26.3109 16.2386V16.2386Z\" fill=\"#EA4335\"/>\n",
       "    </svg>\n",
       "    <svg class=\"logo-dark\" width=\"18\" height=\"18\" viewBox=\"0 0 48 48\" xmlns=\"http://www.w3.org/2000/svg\">\n",
       "      <circle cx=\"24\" cy=\"23\" fill=\"#FFF\" r=\"22\"/>\n",
       "      <path d=\"M33.76 34.26c2.75-2.56 4.49-6.37 4.49-11.26 0-.89-.08-1.84-.29-3H24.01v5.99h8.03c-.4 2.02-1.5 3.56-3.07 4.56v.75l3.91 2.97h.88z\" fill=\"#4285F4\"/>\n",
       "      <path d=\"M15.58 25.77A8.845 8.845 0 0 0 24 31.86c1.92 0 3.62-.46 4.97-1.31l4.79 3.71C31.14 36.7 27.65 38 24 38c-5.93 0-11.01-3.4-13.45-8.36l.17-1.01 4.06-2.85h.8z\" fill=\"#34A853\"/>\n",
       "      <path d=\"M15.59 20.21a8.864 8.864 0 0 0 0 5.58l-5.03 3.86c-.98-2-1.53-4.25-1.53-6.64 0-2.39.55-4.64 1.53-6.64l1-.22 3.81 2.98.22 1.08z\" fill=\"#FBBC05\"/>\n",
       "      <path d=\"M24 14.14c2.11 0 4.02.75 5.52 1.98l4.36-4.36C31.22 9.43 27.81 8 24 8c-5.93 0-11.01 3.4-13.45 8.36l5.03 3.85A8.86 8.86 0 0 1 24 14.14z\" fill=\"#EA4335\"/>\n",
       "    </svg>\n",
       "    <div class=\"gradient-container\"><div class=\"gradient\"></div></div>\n",
       "  </div>\n",
       "  <div class=\"carousel\">\n",
       "    <a class=\"chip\" href=\"https://vertexaisearch.cloud.google.com/grounding-api-redirect/AWQVqAKKpTFiepn_HXGVl57VAcDjGUQYIH7_dSIIoHAIMPqjjsqbWN1H439Fkj5gcr8GfNKfItT4PKh3RXHq5IZjq2zLUGhKDsFGkEBqkXLoa9OMtIfq0cfLup7H3Iudlm4mlCBvfzdgrV2i-gy1F998Iw4HSSgr-tj5RQ5qSth6sfzb8uCVHGAjl_xIzC4OGWBVUF2PJzzXkbpMMDKetBYeQtcq\">Billie Eilish concert schedule</a>\n",
       "  </div>\n",
       "</div>\n"
      ],
      "text/plain": [
       "<IPython.core.display.HTML object>"
      ]
     },
     "execution_count": 9,
     "metadata": {},
     "output_type": "execute_result"
    }
   ],
   "source": [
    "HTML(rc.grounding_metadata.search_entry_point.rendered_content)"
   ]
  },
  {
   "cell_type": "code",
   "execution_count": 10,
   "id": "ef1c3ea2",
   "metadata": {
    "execution": {
     "iopub.execute_input": "2025-04-03T09:49:45.705950Z",
     "iopub.status.busy": "2025-04-03T09:49:45.705673Z",
     "iopub.status.idle": "2025-04-03T09:49:45.712044Z",
     "shell.execute_reply": "2025-04-03T09:49:45.711283Z"
    },
    "papermill": {
     "duration": 0.012483,
     "end_time": "2025-04-03T09:49:45.713460",
     "exception": false,
     "start_time": "2025-04-03T09:49:45.700977",
     "status": "completed"
    },
    "tags": []
   },
   "outputs": [
    {
     "name": "stdout",
     "output_type": "stream",
     "text": [
      "{'confidence_scores': [0.6205216, 0.7180642],\n",
      " 'grounding_chunk_indices': [0, 1],\n",
      " 'segment': {'end_index': 92,\n",
      "             'text': \"Billie Eilish's next concert is on April 23, 2025, at \"\n",
      "                     'the Avicii Arena in Stockholm, Sweden.'}}\n"
     ]
    }
   ],
   "source": [
    "from pprint import pprint\n",
    "\n",
    "supports = rc.grounding_metadata.grounding_supports\n",
    "for support in supports:\n",
    "    pprint(support.to_json_dict())"
   ]
  },
  {
   "cell_type": "code",
   "execution_count": 11,
   "id": "f85f84d2",
   "metadata": {
    "execution": {
     "iopub.execute_input": "2025-04-03T09:49:45.723062Z",
     "iopub.status.busy": "2025-04-03T09:49:45.722755Z",
     "iopub.status.idle": "2025-04-03T09:49:45.730544Z",
     "shell.execute_reply": "2025-04-03T09:49:45.729649Z"
    },
    "papermill": {
     "duration": 0.014341,
     "end_time": "2025-04-03T09:49:45.732141",
     "exception": false,
     "start_time": "2025-04-03T09:49:45.717800",
     "status": "completed"
    },
    "tags": []
   },
   "outputs": [
    {
     "data": {
      "text/markdown": [
       "Supported text:\n",
       "\n",
       " * Billie Eilish's next concert is on April 23, 2025, at the Avicii Arena in Stockholm, Sweden.<sup>[1]</sup><sup>[2]</sup>\n",
       "\n",
       "Citations:\n",
       "\n",
       "1. [ticketmaster.co.uk](https://vertexaisearch.cloud.google.com/grounding-api-redirect/AWQVqAKgu8tpIN7ULkd3y0XAditIVxBWQf-E31bMC6qvMJnzUATaGz3SSoMga5a6JoT6XUFSlC4k0de6r8YuL_82e-8NUKPfeHDI5v6jIYrLArDchORXCgBGoy-k8BXp9-sGI863_r7_eA0UCGvj8bnRJXRWYg-ALcZUYUI68-76Tw==)\n",
       "2. [ticketmaster.com](https://vertexaisearch.cloud.google.com/grounding-api-redirect/AWQVqAKpYhGciBAJWTiQlHFFEV-mnCmHWVFiW8TtILepvy26DZvs7IJ5VpZlfYh0l1tZ4kKBw8qw9dAm19uFncgBriQNCi8tiYG2UfpvvzE64uHdaglExpRf-de4oaXCJ05wuWm7PhRs22i8xOTfFRGxo-2p7u2N7l1qwk6MJYM=)\n"
      ],
      "text/plain": [
       "<IPython.core.display.Markdown object>"
      ]
     },
     "execution_count": 11,
     "metadata": {},
     "output_type": "execute_result"
    }
   ],
   "source": [
    "import io\n",
    "\n",
    "markdown_buffer = io.StringIO()\n",
    "\n",
    "# Print the text with footnote markers.\n",
    "markdown_buffer.write(\"Supported text:\\n\\n\")\n",
    "for support in supports:\n",
    "    markdown_buffer.write(\" * \")\n",
    "    markdown_buffer.write(\n",
    "        response.text[support.segment.start_index : support.segment.end_index]\n",
    "    )\n",
    "\n",
    "    for i in support.grounding_chunk_indices:\n",
    "        chunk = chunks[i].web\n",
    "        markdown_buffer.write(f\"<sup>[{i+1}]</sup>\")\n",
    "\n",
    "    markdown_buffer.write(\"\\n\\n\")\n",
    "\n",
    "\n",
    "# And print the footnotes.\n",
    "markdown_buffer.write(\"Citations:\\n\\n\")\n",
    "for i, chunk in enumerate(chunks, start=1):\n",
    "    markdown_buffer.write(f\"{i}. [{chunk.web.title}]({chunk.web.uri})\\n\")\n",
    "\n",
    "\n",
    "Markdown(markdown_buffer.getvalue())"
   ]
  },
  {
   "cell_type": "code",
   "execution_count": 12,
   "id": "e6f79dd0",
   "metadata": {
    "execution": {
     "iopub.execute_input": "2025-04-03T09:49:45.741844Z",
     "iopub.status.busy": "2025-04-03T09:49:45.741514Z",
     "iopub.status.idle": "2025-04-03T09:49:45.746379Z",
     "shell.execute_reply": "2025-04-03T09:49:45.745465Z"
    },
    "papermill": {
     "duration": 0.011221,
     "end_time": "2025-04-03T09:49:45.747819",
     "exception": false,
     "start_time": "2025-04-03T09:49:45.736598",
     "status": "completed"
    },
    "tags": []
   },
   "outputs": [],
   "source": [
    "from IPython.display import display, Image, Markdown\n",
    "\n",
    "def show_response(response):\n",
    "    for p in response.candidates[0].content.parts:\n",
    "        if p.text:\n",
    "            display(Markdown(p.text))\n",
    "        elif p.inline_data:\n",
    "            display(Image(p.inline_data.data))\n",
    "        else:\n",
    "            print(p.to_json_dict())\n",
    "    \n",
    "        display(Markdown('----'))"
   ]
  },
  {
   "cell_type": "code",
   "execution_count": 13,
   "id": "688df874",
   "metadata": {
    "execution": {
     "iopub.execute_input": "2025-04-03T09:49:45.757599Z",
     "iopub.status.busy": "2025-04-03T09:49:45.757287Z",
     "iopub.status.idle": "2025-04-03T09:49:48.347819Z",
     "shell.execute_reply": "2025-04-03T09:49:48.346844Z"
    },
    "papermill": {
     "duration": 2.59717,
     "end_time": "2025-04-03T09:49:48.349357",
     "exception": false,
     "start_time": "2025-04-03T09:49:45.752187",
     "status": "completed"
    },
    "tags": []
   },
   "outputs": [
    {
     "data": {
      "text/markdown": [
       "Here is the medal tally for the top 10 countries at the 2024 Paris Olympics:\n",
       "\n",
       "1.  **United States:** 40 Gold, 44 Silver, 42 Bronze (126 total)\n",
       "2.  **China:** 40 Gold, 27 Silver, 24 Bronze (91 total)\n",
       "3.  **Japan:** 20 Gold, 12 Silver, 13 Bronze (45 total)\n",
       "4.  **Australia:** 18 Gold, 19 Silver, 16 Bronze (53 total)\n",
       "5.  **France:** 16 Gold, 26 Silver, 22 Bronze (64 total)\n",
       "6.  **Netherlands:** 15 Gold, 7 Silver, 12 Bronze (34 total)\n",
       "7.  **Great Britain:** 14 Gold, 22 Silver, 29 Bronze (65 total)\n",
       "8.  **Republic of Korea:** 13 Gold, 9 Silver, 10 Bronze (32 total)\n",
       "9.  **Italy:** 12 Gold, 13 Silver, 15 Bronze (40 total)\n",
       "10. **Germany:** 12 Gold, 13 Silver, 8 Bronze (33 total)"
      ],
      "text/plain": [
       "<IPython.core.display.Markdown object>"
      ]
     },
     "metadata": {},
     "output_type": "display_data"
    },
    {
     "data": {
      "text/markdown": [
       "----"
      ],
      "text/plain": [
       "<IPython.core.display.Markdown object>"
      ]
     },
     "metadata": {},
     "output_type": "display_data"
    }
   ],
   "source": [
    "config_with_search = types.GenerateContentConfig(\n",
    "    tools=[types.Tool(google_search=types.GoogleSearch())],\n",
    "    temperature=0.0,\n",
    ")\n",
    "\n",
    "chat = client.chats.create(model='gemini-2.0-flash')\n",
    "\n",
    "response = chat.send_message(\n",
    "    message=\"What were the medal tallies, by top-10 countries, for the 2024 olympics?\",\n",
    "    config=config_with_search,\n",
    ")\n",
    "\n",
    "show_response(response)"
   ]
  },
  {
   "cell_type": "code",
   "execution_count": 14,
   "id": "887f47f2",
   "metadata": {
    "execution": {
     "iopub.execute_input": "2025-04-03T09:49:48.359581Z",
     "iopub.status.busy": "2025-04-03T09:49:48.359266Z",
     "iopub.status.idle": "2025-04-03T09:49:53.531471Z",
     "shell.execute_reply": "2025-04-03T09:49:53.530569Z"
    },
    "papermill": {
     "duration": 5.17887,
     "end_time": "2025-04-03T09:49:53.532848",
     "exception": false,
     "start_time": "2025-04-03T09:49:48.353978",
     "status": "completed"
    },
    "tags": []
   },
   "outputs": [
    {
     "data": {
      "text/markdown": [
       "Okay, I can help you visualize this data using a Seaborn chart. I'll use a stacked bar chart to represent the medal distribution for each country.\n",
       "\n"
      ],
      "text/plain": [
       "<IPython.core.display.Markdown object>"
      ]
     },
     "metadata": {},
     "output_type": "display_data"
    },
    {
     "data": {
      "text/markdown": [
       "----"
      ],
      "text/plain": [
       "<IPython.core.display.Markdown object>"
      ]
     },
     "metadata": {},
     "output_type": "display_data"
    },
    {
     "name": "stdout",
     "output_type": "stream",
     "text": [
      "{'executable_code': {'code': \"import pandas as pd\\nimport seaborn as sns\\nimport matplotlib.pyplot as plt\\n\\n# Data from the previous response\\ndata = {\\n    'Country': ['United States', 'China', 'Japan', 'Australia', 'France', 'Netherlands', 'Great Britain', 'Republic of Korea', 'Italy', 'Germany'],\\n    'Gold': [40, 40, 20, 18, 16, 15, 14, 13, 12, 12],\\n    'Silver': [44, 27, 12, 19, 26, 7, 22, 9, 13, 13],\\n    'Bronze': [42, 24, 13, 16, 22, 12, 29, 10, 15, 8]\\n}\\n\\ndf = pd.DataFrame(data)\\n\\n# Melt the dataframe to make it suitable for a stacked bar chart\\ndf_melted = df.melt(id_vars='Country', var_name='Medal', value_name='Count')\\n\\n# Create the stacked bar chart\\nplt.figure(figsize=(12, 8))  # Adjust figure size for better readability\\nsns.barplot(x='Country', y='Count', hue='Medal', data=df_melted, palette={'Gold': 'gold', 'Silver': 'silver', 'Bronze': 'brown'}) # Use more descriptive colors\\nplt.title('2024 Olympics Medal Tally (Top 10 Countries)', fontsize=16)\\nplt.xlabel('Country', fontsize=12)\\nplt.ylabel('Number of Medals', fontsize=12)\\nplt.xticks(rotation=45, ha='right')  # Rotate x-axis labels for readability\\nplt.tight_layout()  # Adjust layout to prevent labels from overlapping\\nplt.show()\\n\", 'language': 'PYTHON'}}\n"
     ]
    },
    {
     "data": {
      "text/markdown": [
       "----"
      ],
      "text/plain": [
       "<IPython.core.display.Markdown object>"
      ]
     },
     "metadata": {},
     "output_type": "display_data"
    },
    {
     "data": {
      "image/png": "[encoded data removed]",
      "text/plain": [
       "<IPython.core.display.Image object>"
      ]
     },
     "metadata": {},
     "output_type": "display_data"
    },
    {
     "data": {
      "text/markdown": [
       "----"
      ],
      "text/plain": [
       "<IPython.core.display.Markdown object>"
      ]
     },
     "metadata": {},
     "output_type": "display_data"
    },
    {
     "data": {
      "text/markdown": [
       "The chart displays the 2024 Olympics medal tally for the top 10 countries, broken down by medal type (Gold, Silver, and Bronze). The x-axis represents the countries, and the y-axis represents the number of medals. Each country has three bars representing the number of gold, silver, and bronze medals they won. The chart confirms the United States and China as the top two countries in terms of total medals. The x-axis labels are rotated for better readability. The colors used for each medal type are gold, silver, and brown."
      ],
      "text/plain": [
       "<IPython.core.display.Markdown object>"
      ]
     },
     "metadata": {},
     "output_type": "display_data"
    },
    {
     "data": {
      "text/markdown": [
       "----"
      ],
      "text/plain": [
       "<IPython.core.display.Markdown object>"
      ]
     },
     "metadata": {},
     "output_type": "display_data"
    }
   ],
   "source": [
    "config_with_code = types.GenerateContentConfig(\n",
    "    tools=[types.Tool(code_execution=types.ToolCodeExecution())],\n",
    "    temperature=0.0,\n",
    ")\n",
    "\n",
    "response = chat.send_message(\n",
    "    message=\"Now plot this as a seaborn chart. Break out the medals too.\",\n",
    "    config=config_with_code,\n",
    ")\n",
    "\n",
    "show_response(response)"
   ]
  }
 ],
 "metadata": {
  "kaggle": {
   "accelerator": "none",
   "dataSources": [],
   "dockerImageVersionId": 30918,
   "isGpuEnabled": false,
   "isInternetEnabled": true,
   "language": "python",
   "sourceType": "notebook"
  },
  "kernelspec": {
   "display_name": "Python 3",
   "language": "python",
   "name": "python3"
  },
  "language_info": {
   "codemirror_mode": {
    "name": "ipython",
    "version": 3
   },
   "file_extension": ".py",
   "mimetype": "text/x-python",
   "name": "python",
   "nbconvert_exporter": "python",
   "pygments_lexer": "ipython3",
   "version": "3.10.12"
  },
  "papermill": {
   "default_parameters": {},
   "duration": 24.496192,
   "end_time": "2025-04-03T09:49:54.259840",
   "environment_variables": {},
   "exception": null,
   "input_path": "__notebook__.ipynb",
   "output_path": "__notebook__.ipynb",
   "parameters": {},
   "start_time": "2025-04-03T09:49:29.763648",
   "version": "2.6.0"
  }
 },
 "nbformat": 4,
 "nbformat_minor": 5
}
